{
 "cells": [
  {
   "cell_type": "code",
   "execution_count": 1,
   "metadata": {
    "collapsed": true
   },
   "outputs": [],
   "source": [
    "import urllib\n",
    "import urllib.request\n",
    "from bs4 import BeautifulSoup"
   ]
  },
  {
   "cell_type": "code",
   "execution_count": 2,
   "metadata": {
    "collapsed": true
   },
   "outputs": [],
   "source": [
    "theurl=\"https://twitter.com/POTUS\""
   ]
  },
  {
   "cell_type": "code",
   "execution_count": 3,
   "metadata": {
    "collapsed": true
   },
   "outputs": [],
   "source": [
    "thepage=urllib.request.urlopen(theurl)"
   ]
  },
  {
   "cell_type": "code",
   "execution_count": 5,
   "metadata": {},
   "outputs": [],
   "source": [
    "soup=BeautifulSoup(thepage,\"html.parser\")"
   ]
  },
  {
   "cell_type": "code",
   "execution_count": 8,
   "metadata": {},
   "outputs": [
    {
     "name": "stdout",
     "output_type": "stream",
     "text": [
      "President Trump (@POTUS) | Twitter\n"
     ]
    }
   ],
   "source": [
    "print(soup.title.text)"
   ]
  },
  {
   "cell_type": "code",
   "execution_count": 11,
   "metadata": {},
   "outputs": [
    {
     "name": "stdout",
     "output_type": "stream",
     "text": [
      "<p class=\"ProfileHeaderCard-bio u-dir\" dir=\"ltr\">45th President of the United States of America, <a class=\"tweet-url twitter-atreply pretty-link\" data-mentioned-user-id=\"0\" dir=\"ltr\" href=\"/realDonaldTrump\" rel=\"nofollow\"><s>@</s><b>realDonaldTrump</b></a>. Tweets archived: <a class=\"twitter-timeline-link\" data-expanded-url=\"http://wh.gov/privacy\" dir=\"ltr\" href=\"https://t.co/eVVzoBb3Zr\" rel=\"nofollow noopener\" target=\"_blank\" title=\"http://wh.gov/privacy\"><span class=\"invisible\">http://</span><span class=\"js-display-url\">wh.gov/privacy</span><span class=\"tco-ellipsis\"><span class=\"invisible\"> </span></span></a></p>\n"
     ]
    }
   ],
   "source": [
    "print(soup.find('div',{\"class\":\"ProfileHeaderCard\"}).find('p'))"
   ]
  },
  {
   "cell_type": "code",
   "execution_count": 15,
   "metadata": {},
   "outputs": [
    {
     "name": "stdout",
     "output_type": "stream",
     "text": [
      "1\n",
      "“President Donald J. Trump Proclaims March 25, 2018, as Greek Independence Day: A National Day of Celebration of Greek and American Democracy” https://www.whitehouse.gov/presidential-actions/president-donald-j-trump-proclaims-march-25-2018-greek-independence-day-national-day-celebration-greek-american-democracy/ …pic.twitter.com/GltMwxINA2\n",
      "2\n",
      "Happy National #MedalOfHonorDay to our HEROES. We love you!pic.twitter.com/6euI31R4Gz\n",
      "3\n",
      "Our thoughts and prayers are with the victims of the horrible attack in France yesterday, and we grieve the nation’s loss. We also condemn the violent actions of the attacker and anyone who would provide him support. We are with you @EmmanuelMacron!\n",
      "4\n",
      "March 23, 2018 #TeamTrumpBTS\n",
      " https://instagram.com/p/BgsF4xxAFqE/ pic.twitter.com/npFo2W5i8w\n",
      "5\n",
      "\n",
      "                45th President of the United States of America, @realDonaldTrump. Tweets archived: http://wh.gov/privacy \n",
      "\n",
      "6\n",
      "\n",
      "                45th President of the United States of America, @realDonaldTrump. Tweets archived: http://wh.gov/privacy \n",
      "\n",
      "7\n",
      "\n",
      "                45th President of the United States of America, @realDonaldTrump. Tweets archived: http://wh.gov/privacy \n",
      "\n",
      "8\n",
      "\n",
      "                45th President of the United States of America, @realDonaldTrump. Tweets archived: http://wh.gov/privacy \n",
      "\n",
      "9\n",
      "\n",
      "                45th President of the United States of America, @realDonaldTrump. Tweets archived: http://wh.gov/privacy \n",
      "\n",
      "10\n",
      "\n",
      "                45th President of the United States of America, @realDonaldTrump. Tweets archived: http://wh.gov/privacy \n",
      "\n",
      "11\n",
      "\n",
      "                45th President of the United States of America, @realDonaldTrump. Tweets archived: http://wh.gov/privacy \n",
      "\n",
      "12\n",
      "\n",
      "                45th President of the United States of America, @realDonaldTrump. Tweets archived: http://wh.gov/privacy \n",
      "\n",
      "13\n",
      "\n",
      "                45th President of the United States of America, @realDonaldTrump. Tweets archived: http://wh.gov/privacy \n",
      "\n",
      "14\n",
      "\n",
      "                45th President of the United States of America, @realDonaldTrump. Tweets archived: http://wh.gov/privacy \n",
      "\n",
      "15\n",
      "Donald J. Trump Retweeted Fox News\n",
      "16\n",
      "Obama Administration legalized bump stocks. BAD IDEA. As I promised, today the Department of Justice will issue the rule banning BUMP STOCKS with a mandated comment period. We will BAN all devices that turn legal weapons into illegal machine guns.\n",
      "17\n",
      "News conference at the White House concerning the Omnibus Spending Bill.  1:00 P.M.\n",
      "18\n",
      "I am considering a VETO of the Omnibus Spending Bill based on the fact that the 800,000 plus DACA recipients have been totally abandoned by the Democrats (not even mentioned in Bill) and the BORDER WALL, which is desperately needed for our National Defense, is not fully funded.\n",
      "19\n",
      "DACA was abandoned by the Democrats. Very unfair to them! Would have been tied to desperately needed Wall.\n",
      "20\n",
      "I am pleased to announce that, effective 4/9/18, @AmbJohnBolton will be my new National Security Advisor. I am very thankful for the service of General H.R. McMaster who has done an outstanding job & will always remain my friend. There will be an official contact handover on 4/9.\n",
      "21\n",
      "Donald J. Trump Retweeted Charlie Kirk\n",
      "22\n",
      "Greetings from @WhiteHousepic.twitter.com/mjuHFqglYz\n",
      "23\n",
      "As a candidate, I pledged that if elected I would use every lawful tool to combat unfair trade, protect American workers, and defend our national security.  Today, we took another critical step to fulfill that commitment. http://45.wh.gov/Section301 pic.twitter.com/nmzqos3BUA\n",
      "24\n",
      "Opioid addiction has devastated the lives of too many American families. Help end the stigma. Share your story:http://45.wh.gov/CrisisNextDoor \n",
      "25\n",
      "\"Together, we will end the scourge of drug addiction in America once and for all. We will win. We will beat it.\"\n",
      "\n",
      "From grief and devastation to recovery and hope, the stories of the opioid crisis in America must be heard. Submit yours: http://45.wh.gov/CrisisNextDoor pic.twitter.com/Smxi2f0AbJ\n",
      "26\n",
      "Illicit opioids – including #fentanyl – have flooded into our country through ports, shipments, and border crossings. The @POTUS Trump Administration is working to increase the seizure of illicit #opioids and reduce the illicit drug supply. Learn more at http://opioids.gov .pic.twitter.com/CsG5jHCQWv\n",
      "27\n",
      "Sanctuary cities are undermining law enforcement by obstructing Federal immigration enforcement efforts and putting law enforcement at greater risk. Read more:http://45.wh.gov/i54NMu \n",
      "28\n",
      "Honored to celebrate #NationalAgDay earlier at @USDA. Our Admin has been working tirelessly to stand w/ our Nation’s farmers & ag community – cutting red tape, cutting taxes & working to open up the world to American agricultural products like never before.pic.twitter.com/CNXVYe7v39\n",
      "29\n",
      "Proud of Iowa's innovation in education! #WorkforceDevelopment is my #1 priority & we showcased it at @WaukeeAPEX during @IvankaTrump’s visit yesterday. Teaching skills to help students land high-demand jobs is critical to Iowa's - and our nation's - future. #iagovpic.twitter.com/xJCnAqKx6Z\n",
      "30\n",
      "The opioid crisis continues to devastate families. In NC, we have 4 of the top 25 worst cities for abuse. It’s going to take a unified effort to turn this crisis around. I appreciate @POTUS's leadership & passion on this issue, & I welcome this plan.https://hudson.house.gov/press-releases/hudson-welcomes-trumps-plan-to-combat-opioid-crisis/ …\n"
     ]
    }
   ],
   "source": [
    "i=1\n",
    "\n",
    "for tweets in soup.findAll('div',{\"class\":\"content\"}):\n",
    "    print(i)\n",
    "    print(tweets.find('p').text)\n",
    "    i=i+1"
   ]
  },
  {
   "cell_type": "code",
   "execution_count": null,
   "metadata": {
    "collapsed": true
   },
   "outputs": [],
   "source": []
  },
  {
   "cell_type": "code",
   "execution_count": null,
   "metadata": {
    "collapsed": true
   },
   "outputs": [],
   "source": []
  },
  {
   "cell_type": "code",
   "execution_count": null,
   "metadata": {
    "collapsed": true
   },
   "outputs": [],
   "source": []
  },
  {
   "cell_type": "code",
   "execution_count": null,
   "metadata": {
    "collapsed": true
   },
   "outputs": [],
   "source": []
  },
  {
   "cell_type": "code",
   "execution_count": null,
   "metadata": {
    "collapsed": true
   },
   "outputs": [],
   "source": []
  },
  {
   "cell_type": "code",
   "execution_count": null,
   "metadata": {
    "collapsed": true
   },
   "outputs": [],
   "source": []
  }
 ],
 "metadata": {
  "kernelspec": {
   "display_name": "Python 3",
   "language": "python",
   "name": "python3"
  },
  "language_info": {
   "codemirror_mode": {
    "name": "ipython",
    "version": 3
   },
   "file_extension": ".py",
   "mimetype": "text/x-python",
   "name": "python",
   "nbconvert_exporter": "python",
   "pygments_lexer": "ipython3",
   "version": "3.6.3"
  }
 },
 "nbformat": 4,
 "nbformat_minor": 2
}
